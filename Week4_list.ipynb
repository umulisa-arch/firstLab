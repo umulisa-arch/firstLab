{
  "nbformat": 4,
  "nbformat_minor": 0,
  "metadata": {
    "colab": {
      "provenance": []
    },
    "kernelspec": {
      "name": "python3",
      "display_name": "Python 3"
    },
    "language_info": {
      "name": "python"
    }
  },
  "cells": [
    {
      "cell_type": "code",
      "execution_count": null,
      "metadata": {
        "colab": {
          "base_uri": "https://localhost:8080/"
        },
        "id": "Q76gMx756VRm",
        "outputId": "a3e5c815-b061-4ee2-f2b9-12482be1aa58"
      },
      "outputs": [
        {
          "output_type": "stream",
          "name": "stdout",
          "text": [
            "0\n",
            "1\n",
            "2\n",
            "3\n",
            "4\n",
            "5\n",
            "6\n",
            "7\n",
            "8\n",
            "9\n"
          ]
        }
      ],
      "source": [
        "for items in range(10):\n",
        "  print(items)\n"
      ]
    },
    {
      "cell_type": "code",
      "source": [
        "#create new albitrary 2d list\n",
        "import copy\n",
        "a = [[2,3,5],[1,4,7]]\n",
        "print(\"our a is: \", a)\n",
        "print(len(a[0]))\n",
        "\n",
        "#shalow copy\n",
        "Christiano = 37\n",
        "cr7 = copy.copy(Christiano)\n",
        "print(cr7)\n",
        "cr7 = 40\n",
        "print(cr7)\n",
        "print(f\"sum of {a[0][1]} and {a[1][-1]} is:  {a[0][1]+a[1][-1]}\")\n",
        "\n",
        "#and deep copy"
      ],
      "metadata": {
        "colab": {
          "base_uri": "https://localhost:8080/"
        },
        "id": "0-i3fApr7pIs",
        "outputId": "3552b26b-fb03-4ea6-d180-28231720d425"
      },
      "execution_count": null,
      "outputs": [
        {
          "output_type": "stream",
          "name": "stdout",
          "text": [
            "our a is:  [[2, 3, 5], [1, 4, 7]]\n",
            "3\n",
            "37\n",
            "40\n",
            "sum of 3 and 7 is:  10\n"
          ]
        }
      ]
    },
    {
      "cell_type": "code",
      "source": [
        "a = [[1,2,3],[4,5,6]]\n",
        "col = 1\n",
        "loList =[]\n",
        "for row in range(len(a)):\n",
        "  print(loList)\n",
        "  loList+= [a[row][col]]\n",
        "\n"
      ],
      "metadata": {
        "colab": {
          "base_uri": "https://localhost:8080/"
        },
        "id": "fpWLITtAOek_",
        "outputId": "422ac143-3a17-4c09-d0cf-9d8d5e5d2191"
      },
      "execution_count": null,
      "outputs": [
        {
          "output_type": "stream",
          "name": "stdout",
          "text": [
            "[]\n",
            "[2]\n"
          ]
        }
      ]
    },
    {
      "cell_type": "markdown",
      "source": [
        "Set and dictionaries\n"
      ],
      "metadata": {
        "id": "PNE0q0zR7k0H"
      }
    },
    {
      "cell_type": "code",
      "source": [
        "#this is the set in python\n",
        "#set can accept elements of different data types\n",
        "#sets are mutable\n",
        "\n",
        "s = {3, 4, 5, 6} #first way of creating a set\n",
        "d = set(s)\n",
        "print(d)\n",
        "print(s)\n",
        "z=set([1,2,3,4,5,6,7,8,9,\"hi\"])#second way of creating a set\n",
        "print(z)\n",
        "z.add(0)\n",
        "z.remove(8)\n",
        "print(\"new z: \",z)\n",
        "tupple_a = (2,3,1,0)\n",
        "print(\"tupple: \", tupple_a)\n",
        "list_a = [2,3,4,5]\n",
        "print(f\"List_a is: {list_a}\")\n",
        "\n",
        "a = [\"list\", \"are\", \"mutable\"]\n",
        "set_1 = set(a)\n",
        "print(set_1)\n",
        "dictionary = {\n",
        "    \"color\":\"blue\",\n",
        "    \"size\": \"small\"\n",
        "}\n",
        "print(dictionary)\n",
        "dict_2={\n",
        "    1: \"names\",\n",
        "    2:\"age\"\n",
        "}\n",
        "print(dict_2)\n",
        "print(1 in dict_2.keys())#to access keys in dictionary\n",
        "print(\"names\" in dict_2.values())#to access values in dictionary\n",
        "\n"
      ],
      "metadata": {
        "colab": {
          "base_uri": "https://localhost:8080/"
        },
        "id": "fWhITy8W7tWh",
        "outputId": "b1385392-c827-4089-8d57-c61bddb9127a"
      },
      "execution_count": 30,
      "outputs": [
        {
          "output_type": "stream",
          "name": "stdout",
          "text": [
            "{3, 4, 5, 6}\n",
            "{3, 4, 5, 6}\n",
            "{1, 2, 3, 4, 5, 6, 7, 8, 9, 'hi'}\n",
            "new z:  {0, 1, 2, 3, 4, 5, 6, 7, 9, 'hi'}\n",
            "tupple:  (2, 3, 1, 0)\n",
            "List_a is: [2, 3, 4, 5]\n",
            "{'mutable', 'list', 'are'}\n",
            "{'color': 'blue', 'size': 'small'}\n",
            "{1: 'names', 2: 'age'}\n",
            "True\n",
            "True\n"
          ]
        }
      ]
    },
    {
      "cell_type": "markdown",
      "source": [
        "dictionary"
      ],
      "metadata": {
        "id": "UCakk8wNDCFe"
      }
    },
    {
      "cell_type": "code",
      "source": [
        "stateMap ={\"pittsburgh\": \"PA\", \"Chicago\":\"IL\", \"seattle\":\"WA\"}\n",
        "city = input(\"Enter nameof city\").lower()\n",
        "if city in stateMap"
      ],
      "metadata": {
        "id": "NVxmPdtkDI5r"
      },
      "execution_count": null,
      "outputs": []
    },
    {
      "cell_type": "markdown",
      "source": [
        "example"
      ],
      "metadata": {
        "id": "TPLqVrsiE4R9"
      }
    },
    {
      "cell_type": "code",
      "source": [
        "while True:\n",
        "  n = int( input(\"enter an integer: \"))\n",
        "  if(n==0):\n",
        "    break;\n",
        ""
      ],
      "metadata": {
        "id": "wOwqnWwfE5z4"
      },
      "execution_count": null,
      "outputs": []
    },
    {
      "cell_type": "markdown",
      "source": [
        "another exaples"
      ],
      "metadata": {
        "id": "GGK1vcOtHols"
      }
    },
    {
      "cell_type": "code",
      "source": [
        "d = {\"a\", \"b\", \"c\"}\n",
        "s = list(d)\n",
        "print(s)\n"
      ],
      "metadata": {
        "colab": {
          "base_uri": "https://localhost:8080/"
        },
        "id": "m5X_AQNuHqOJ",
        "outputId": "3222f5ba-5ae5-4999-bc5d-fa4f40c2883d"
      },
      "execution_count": 33,
      "outputs": [
        {
          "output_type": "stream",
          "name": "stdout",
          "text": [
            "['c', 'a', 'b']\n"
          ]
        }
      ]
    },
    {
      "cell_type": "markdown",
      "source": [
        "another"
      ],
      "metadata": {
        "id": "MjbZtifjJfdG"
      }
    },
    {
      "cell_type": "code",
      "source": [
        "d = dict()#defining an empty dictionary\n",
        "print(d)\n",
        "d[0] = \"100\"#adding new value into dictionary\n",
        "d[1] = \"200\"\n",
        "d[2] = \"300\"\n",
        "print(\"\\n.\" *6)\n",
        "print(d)"
      ],
      "metadata": {
        "colab": {
          "base_uri": "https://localhost:8080/"
        },
        "id": "kSRMFU1wJhPL",
        "outputId": "40722d04-05b5-4c65-c9ee-6c29d1016a90"
      },
      "execution_count": 41,
      "outputs": [
        {
          "output_type": "stream",
          "name": "stdout",
          "text": [
            "{}\n",
            "\n",
            ".\n",
            ".\n",
            ".\n",
            ".\n",
            ".\n",
            ".\n",
            "{0: '100', 1: '200', 2: '300'}\n"
          ]
        }
      ]
    }
  ]
}